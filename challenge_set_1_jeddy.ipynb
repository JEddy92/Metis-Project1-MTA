{
 "cells": [
  {
   "cell_type": "markdown",
   "metadata": {},
   "source": [
    "**Topic**:        Challenge Set 1  \n",
    "**Subject**:      Explore MTA turnstile data  \n",
    "**Date**:         7/1/2017  \n",
    "**Name**:         Joseph Eddy  \n",
    "**Worked with**:  Project Benson Team: Devin Maiello, Will Tseng, Matt Orr  "
   ]
  },
  {
   "cell_type": "markdown",
   "metadata": {},
   "source": [
    "**Challenge 1**: Create dictionary with (C/A, UNIT, SCP, STATION) keys\n",
    "\n",
    "We'll read the 5 latest files into dataframes, concat them and clean the header, then iterate through the rows of the dataframe to create a dictionary with the specified format."
   ]
  },
  {
   "cell_type": "code",
   "execution_count": 1,
   "metadata": {
    "collapsed": false
   },
   "outputs": [],
   "source": [
    "import pandas as pd\n",
    "import numpy as np\n",
    "\n",
    "df_MTA1 = pd.read_csv('http://web.mta.info/developers/data/nyct/turnstile/turnstile_170527.txt')\n",
    "df_MTA2 = pd.read_csv('http://web.mta.info/developers/data/nyct/turnstile/turnstile_170603.txt')\n",
    "df_MTA3 = pd.read_csv('http://web.mta.info/developers/data/nyct/turnstile/turnstile_170610.txt')\n",
    "df_MTA4 = pd.read_csv('http://web.mta.info/developers/data/nyct/turnstile/turnstile_170617.txt')\n",
    "df_MTA5 = pd.read_csv('http://web.mta.info/developers/data/nyct/turnstile/turnstile_170624.txt')\n",
    "\n",
    "df_MTA = pd.concat([df_MTA1,df_MTA2,df_MTA3,df_MTA4,df_MTA5])\n",
    "df_MTA.columns = df_MTA.columns.str.strip()"
   ]
  },
  {
   "cell_type": "code",
   "execution_count": 2,
   "metadata": {
    "collapsed": false
   },
   "outputs": [
    {
     "data": {
      "text/html": [
       "<div>\n",
       "<table border=\"1\" class=\"dataframe\">\n",
       "  <thead>\n",
       "    <tr style=\"text-align: right;\">\n",
       "      <th></th>\n",
       "      <th>C/A</th>\n",
       "      <th>UNIT</th>\n",
       "      <th>SCP</th>\n",
       "      <th>STATION</th>\n",
       "      <th>LINENAME</th>\n",
       "      <th>DIVISION</th>\n",
       "      <th>DATE</th>\n",
       "      <th>TIME</th>\n",
       "      <th>DESC</th>\n",
       "      <th>ENTRIES</th>\n",
       "      <th>EXITS</th>\n",
       "    </tr>\n",
       "  </thead>\n",
       "  <tbody>\n",
       "    <tr>\n",
       "      <th>0</th>\n",
       "      <td>A002</td>\n",
       "      <td>R051</td>\n",
       "      <td>02-00-00</td>\n",
       "      <td>59 ST</td>\n",
       "      <td>NQR456W</td>\n",
       "      <td>BMT</td>\n",
       "      <td>05/20/2017</td>\n",
       "      <td>00:00:00</td>\n",
       "      <td>REGULAR</td>\n",
       "      <td>6184841</td>\n",
       "      <td>2095161</td>\n",
       "    </tr>\n",
       "    <tr>\n",
       "      <th>1</th>\n",
       "      <td>A002</td>\n",
       "      <td>R051</td>\n",
       "      <td>02-00-00</td>\n",
       "      <td>59 ST</td>\n",
       "      <td>NQR456W</td>\n",
       "      <td>BMT</td>\n",
       "      <td>05/20/2017</td>\n",
       "      <td>04:00:00</td>\n",
       "      <td>REGULAR</td>\n",
       "      <td>6184865</td>\n",
       "      <td>2095167</td>\n",
       "    </tr>\n",
       "    <tr>\n",
       "      <th>2</th>\n",
       "      <td>A002</td>\n",
       "      <td>R051</td>\n",
       "      <td>02-00-00</td>\n",
       "      <td>59 ST</td>\n",
       "      <td>NQR456W</td>\n",
       "      <td>BMT</td>\n",
       "      <td>05/20/2017</td>\n",
       "      <td>08:00:00</td>\n",
       "      <td>REGULAR</td>\n",
       "      <td>6184891</td>\n",
       "      <td>2095192</td>\n",
       "    </tr>\n",
       "    <tr>\n",
       "      <th>3</th>\n",
       "      <td>A002</td>\n",
       "      <td>R051</td>\n",
       "      <td>02-00-00</td>\n",
       "      <td>59 ST</td>\n",
       "      <td>NQR456W</td>\n",
       "      <td>BMT</td>\n",
       "      <td>05/20/2017</td>\n",
       "      <td>12:00:00</td>\n",
       "      <td>REGULAR</td>\n",
       "      <td>6184973</td>\n",
       "      <td>2095275</td>\n",
       "    </tr>\n",
       "    <tr>\n",
       "      <th>4</th>\n",
       "      <td>A002</td>\n",
       "      <td>R051</td>\n",
       "      <td>02-00-00</td>\n",
       "      <td>59 ST</td>\n",
       "      <td>NQR456W</td>\n",
       "      <td>BMT</td>\n",
       "      <td>05/20/2017</td>\n",
       "      <td>16:00:00</td>\n",
       "      <td>REGULAR</td>\n",
       "      <td>6185217</td>\n",
       "      <td>2095326</td>\n",
       "    </tr>\n",
       "  </tbody>\n",
       "</table>\n",
       "</div>"
      ],
      "text/plain": [
       "    C/A  UNIT       SCP STATION LINENAME DIVISION        DATE      TIME  \\\n",
       "0  A002  R051  02-00-00   59 ST  NQR456W      BMT  05/20/2017  00:00:00   \n",
       "1  A002  R051  02-00-00   59 ST  NQR456W      BMT  05/20/2017  04:00:00   \n",
       "2  A002  R051  02-00-00   59 ST  NQR456W      BMT  05/20/2017  08:00:00   \n",
       "3  A002  R051  02-00-00   59 ST  NQR456W      BMT  05/20/2017  12:00:00   \n",
       "4  A002  R051  02-00-00   59 ST  NQR456W      BMT  05/20/2017  16:00:00   \n",
       "\n",
       "      DESC  ENTRIES    EXITS  \n",
       "0  REGULAR  6184841  2095161  \n",
       "1  REGULAR  6184865  2095167  \n",
       "2  REGULAR  6184891  2095192  \n",
       "3  REGULAR  6184973  2095275  \n",
       "4  REGULAR  6185217  2095326  "
      ]
     },
     "execution_count": 2,
     "metadata": {},
     "output_type": "execute_result"
    }
   ],
   "source": [
    "df_MTA.head()"
   ]
  },
  {
   "cell_type": "code",
   "execution_count": 3,
   "metadata": {
    "collapsed": false
   },
   "outputs": [],
   "source": [
    "C1_dict = {}\n",
    "for _, row in df_MTA.iterrows():\n",
    "    key = tuple(row[df_MTA.columns[0:4]].values)\n",
    "    val = list(row[df_MTA.columns[4:]].values)\n",
    "    C1_dict[key] = C1_dict.get(key,[]) + [val]   "
   ]
  },
  {
   "cell_type": "markdown",
   "metadata": {},
   "source": [
    "Now check that the dictionary formatting is correct (output supressed due to length):"
   ]
  },
  {
   "cell_type": "code",
   "execution_count": 4,
   "metadata": {
    "collapsed": false
   },
   "outputs": [],
   "source": [
    "C1_dict[('A002','R051','02-00-00','59 ST')];"
   ]
  },
  {
   "cell_type": "markdown",
   "metadata": {},
   "source": [
    "**Challenge 2**: Create new dictionary with the same keys, but time series values"
   ]
  },
  {
   "cell_type": "code",
   "execution_count": 5,
   "metadata": {
    "collapsed": false
   },
   "outputs": [],
   "source": [
    "import dateutil.parser\n",
    "\n",
    "C2_dict = {}\n",
    "for _, row in df_MTA.iterrows():\n",
    "    key = tuple(row[df_MTA.columns[0:4]].values)\n",
    "    datetime_str = row['DATE'] + ' ' + row['TIME']\n",
    "    datetime_parsed = dateutil.parser.parse(datetime_str) \n",
    "    val = [datetime_parsed,row['ENTRIES']]\n",
    "    C2_dict[key] = C2_dict.get(key,[]) + [val]"
   ]
  },
  {
   "cell_type": "code",
   "execution_count": 6,
   "metadata": {
    "collapsed": false
   },
   "outputs": [],
   "source": [
    "C2_dict[('A002','R051','02-00-00','59 ST')];"
   ]
  },
  {
   "cell_type": "markdown",
   "metadata": {},
   "source": [
    "**Challenge 3**: Create new dictionary with the same keys, but a single entry count per turnstile for each day.\n",
    "\n",
    "The approach we use for this is to group the dataframe by turnstile identifying and date columns and aggregate the entry column by taking minumums. Since the entry column tracks cumulative entries, for any given day the total entries should be given by the difference between the min of next day's entry values and the min of this day's entry values. For the last day in the data set we don't have the entirety of the daily entries counted, so we'll set the count to NaN."
   ]
  },
  {
   "cell_type": "code",
   "execution_count": 7,
   "metadata": {
    "collapsed": false
   },
   "outputs": [],
   "source": [
    "df_MTA_byDate = df_MTA.groupby(['C/A','UNIT','SCP','STATION','DATE']).ENTRIES.agg({'MIN_ENTRIES':'min'})\n",
    "df_MTA_byDate = df_MTA_byDate.reset_index()\n",
    "\n",
    "df_MTA_byDate['DAILY_ENTRIES'] = df_MTA_byDate.groupby(['C/A','UNIT','SCP','STATION']).MIN_ENTRIES.diff().shift(-1)"
   ]
  },
  {
   "cell_type": "markdown",
   "metadata": {},
   "source": [
    "Fix up this df and set the negative entry values or excessively large entry values to NaN (invalid, something went wrong with the cumulative count). Then take a look."
   ]
  },
  {
   "cell_type": "code",
   "execution_count": 8,
   "metadata": {
    "collapsed": false
   },
   "outputs": [
    {
     "data": {
      "text/html": [
       "<div>\n",
       "<table border=\"1\" class=\"dataframe\">\n",
       "  <thead>\n",
       "    <tr style=\"text-align: right;\">\n",
       "      <th></th>\n",
       "      <th>C/A</th>\n",
       "      <th>UNIT</th>\n",
       "      <th>SCP</th>\n",
       "      <th>STATION</th>\n",
       "      <th>DATE</th>\n",
       "      <th>DAILY_ENTRIES</th>\n",
       "    </tr>\n",
       "  </thead>\n",
       "  <tbody>\n",
       "    <tr>\n",
       "      <th>0</th>\n",
       "      <td>A002</td>\n",
       "      <td>R051</td>\n",
       "      <td>02-00-00</td>\n",
       "      <td>59 ST</td>\n",
       "      <td>05/20/2017</td>\n",
       "      <td>793.0</td>\n",
       "    </tr>\n",
       "    <tr>\n",
       "      <th>1</th>\n",
       "      <td>A002</td>\n",
       "      <td>R051</td>\n",
       "      <td>02-00-00</td>\n",
       "      <td>59 ST</td>\n",
       "      <td>05/21/2017</td>\n",
       "      <td>581.0</td>\n",
       "    </tr>\n",
       "    <tr>\n",
       "      <th>2</th>\n",
       "      <td>A002</td>\n",
       "      <td>R051</td>\n",
       "      <td>02-00-00</td>\n",
       "      <td>59 ST</td>\n",
       "      <td>05/22/2017</td>\n",
       "      <td>1461.0</td>\n",
       "    </tr>\n",
       "    <tr>\n",
       "      <th>3</th>\n",
       "      <td>A002</td>\n",
       "      <td>R051</td>\n",
       "      <td>02-00-00</td>\n",
       "      <td>59 ST</td>\n",
       "      <td>05/23/2017</td>\n",
       "      <td>1807.0</td>\n",
       "    </tr>\n",
       "    <tr>\n",
       "      <th>4</th>\n",
       "      <td>A002</td>\n",
       "      <td>R051</td>\n",
       "      <td>02-00-00</td>\n",
       "      <td>59 ST</td>\n",
       "      <td>05/24/2017</td>\n",
       "      <td>2005.0</td>\n",
       "    </tr>\n",
       "    <tr>\n",
       "      <th>5</th>\n",
       "      <td>A002</td>\n",
       "      <td>R051</td>\n",
       "      <td>02-00-00</td>\n",
       "      <td>59 ST</td>\n",
       "      <td>05/25/2017</td>\n",
       "      <td>2094.0</td>\n",
       "    </tr>\n",
       "    <tr>\n",
       "      <th>6</th>\n",
       "      <td>A002</td>\n",
       "      <td>R051</td>\n",
       "      <td>02-00-00</td>\n",
       "      <td>59 ST</td>\n",
       "      <td>05/26/2017</td>\n",
       "      <td>1635.0</td>\n",
       "    </tr>\n",
       "  </tbody>\n",
       "</table>\n",
       "</div>"
      ],
      "text/plain": [
       "    C/A  UNIT       SCP STATION        DATE  DAILY_ENTRIES\n",
       "0  A002  R051  02-00-00   59 ST  05/20/2017          793.0\n",
       "1  A002  R051  02-00-00   59 ST  05/21/2017          581.0\n",
       "2  A002  R051  02-00-00   59 ST  05/22/2017         1461.0\n",
       "3  A002  R051  02-00-00   59 ST  05/23/2017         1807.0\n",
       "4  A002  R051  02-00-00   59 ST  05/24/2017         2005.0\n",
       "5  A002  R051  02-00-00   59 ST  05/25/2017         2094.0\n",
       "6  A002  R051  02-00-00   59 ST  05/26/2017         1635.0"
      ]
     },
     "execution_count": 8,
     "metadata": {},
     "output_type": "execute_result"
    }
   ],
   "source": [
    "df_MTA_byDate.drop('MIN_ENTRIES',axis=1,inplace=True) \n",
    "df_MTA_byDate.loc[df_MTA_byDate['DAILY_ENTRIES'] < 0, 'DAILY_ENTRIES'] = np.nan\n",
    "df_MTA_byDate.loc[df_MTA_byDate['DAILY_ENTRIES'] > 100000, 'DAILY_ENTRIES'] = np.nan\n",
    "df_MTA_byDate.head(7)"
   ]
  },
  {
   "cell_type": "markdown",
   "metadata": {},
   "source": [
    "Now create the corresponding dictionary, then check that it looks right:"
   ]
  },
  {
   "cell_type": "code",
   "execution_count": 9,
   "metadata": {
    "collapsed": true
   },
   "outputs": [],
   "source": [
    "import dateutil.parser\n",
    "\n",
    "C3_dict = {}\n",
    "for _, row in df_MTA_byDate.iterrows():\n",
    "    key = tuple(row[df_MTA_byDate.columns[0:4]].values)\n",
    "    datetime_str = row['DATE']\n",
    "    datetime_parsed = dateutil.parser.parse(datetime_str) \n",
    "    val = [datetime_parsed,row['DAILY_ENTRIES']]\n",
    "    C3_dict[key] = C3_dict.get(key,[]) + [val]"
   ]
  },
  {
   "cell_type": "code",
   "execution_count": 10,
   "metadata": {
    "collapsed": false
   },
   "outputs": [],
   "source": [
    "C3_dict[('A002','R051','02-00-00','59 ST')];"
   ]
  },
  {
   "cell_type": "markdown",
   "metadata": {},
   "source": [
    "**Challenge 4**: Plot the daily time series for a turnstile"
   ]
  },
  {
   "cell_type": "code",
   "execution_count": 11,
   "metadata": {
    "collapsed": true
   },
   "outputs": [],
   "source": [
    "%matplotlib inline\n",
    "import matplotlib.pyplot as plt\n",
    "import seaborn as sns"
   ]
  },
  {
   "cell_type": "code",
   "execution_count": 12,
   "metadata": {
    "collapsed": false
   },
   "outputs": [],
   "source": [
    "turnstile_lists = C3_dict[('A002','R051','02-00-00','59 ST')]\n",
    "dates, counts = [], []\n",
    "for turnstile_list in turnstile_lists:\n",
    "    dates += [turnstile_list[0]]\n",
    "    counts += [turnstile_list[1]]"
   ]
  },
  {
   "cell_type": "code",
   "execution_count": 13,
   "metadata": {
    "collapsed": false,
    "scrolled": true
   },
   "outputs": [
    {
     "data": {
      "text/plain": [
       "<matplotlib.text.Text at 0x121f94d30>"
      ]
     },
     "execution_count": 13,
     "metadata": {},
     "output_type": "execute_result"
    },
    {
     "data": {
      "image/png": "[encoded data removed]",
      "text/plain": [
       "<matplotlib.figure.Figure at 0x121f039b0>"
      ]
     },
     "metadata": {},
     "output_type": "display_data"
    }
   ],
   "source": [
    "plt.figure(figsize=(10,3))\n",
    "plt.plot(dates,counts)\n",
    "plt.title('Total Entries From 5/20 - 6/22 For A Turnstile At Lex 59th St')\n",
    "plt.xlabel('Date')\n",
    "plt.ylabel('Total Entries')"
   ]
  },
  {
   "cell_type": "markdown",
   "metadata": {},
   "source": [
    "**Challenge 5**: combine turnstiles into single C/A,Unit,Station daily counts"
   ]
  },
  {
   "cell_type": "code",
   "execution_count": 14,
   "metadata": {
    "collapsed": false
   },
   "outputs": [
    {
     "data": {
      "text/html": [
       "<div>\n",
       "<table border=\"1\" class=\"dataframe\">\n",
       "  <thead>\n",
       "    <tr style=\"text-align: right;\">\n",
       "      <th></th>\n",
       "      <th></th>\n",
       "      <th></th>\n",
       "      <th></th>\n",
       "      <th>DAILY_ENTRIES</th>\n",
       "    </tr>\n",
       "    <tr>\n",
       "      <th>C/A</th>\n",
       "      <th>UNIT</th>\n",
       "      <th>STATION</th>\n",
       "      <th>DATE</th>\n",
       "      <th></th>\n",
       "    </tr>\n",
       "  </thead>\n",
       "  <tbody>\n",
       "    <tr>\n",
       "      <th rowspan=\"7\" valign=\"top\">A002</th>\n",
       "      <th rowspan=\"7\" valign=\"top\">R051</th>\n",
       "      <th rowspan=\"7\" valign=\"top\">59 ST</th>\n",
       "      <th>05/20/2017</th>\n",
       "      <td>8167.0</td>\n",
       "    </tr>\n",
       "    <tr>\n",
       "      <th>05/21/2017</th>\n",
       "      <td>6599.0</td>\n",
       "    </tr>\n",
       "    <tr>\n",
       "      <th>05/22/2017</th>\n",
       "      <td>13520.0</td>\n",
       "    </tr>\n",
       "    <tr>\n",
       "      <th>05/23/2017</th>\n",
       "      <td>14735.0</td>\n",
       "    </tr>\n",
       "    <tr>\n",
       "      <th>05/24/2017</th>\n",
       "      <td>15060.0</td>\n",
       "    </tr>\n",
       "    <tr>\n",
       "      <th>05/25/2017</th>\n",
       "      <td>14729.0</td>\n",
       "    </tr>\n",
       "    <tr>\n",
       "      <th>05/26/2017</th>\n",
       "      <td>14363.0</td>\n",
       "    </tr>\n",
       "  </tbody>\n",
       "</table>\n",
       "</div>"
      ],
      "text/plain": [
       "                              DAILY_ENTRIES\n",
       "C/A  UNIT STATION DATE                     \n",
       "A002 R051 59 ST   05/20/2017         8167.0\n",
       "                  05/21/2017         6599.0\n",
       "                  05/22/2017        13520.0\n",
       "                  05/23/2017        14735.0\n",
       "                  05/24/2017        15060.0\n",
       "                  05/25/2017        14729.0\n",
       "                  05/26/2017        14363.0"
      ]
     },
     "execution_count": 14,
     "metadata": {},
     "output_type": "execute_result"
    }
   ],
   "source": [
    "df_MTA_TurnComb = df_MTA_byDate.reset_index().drop('SCP',axis=1)\n",
    "df_MTA_TurnComb = df_MTA_byDate.groupby(['C/A','UNIT','STATION','DATE']).DAILY_ENTRIES.agg({'DAILY_ENTRIES':'sum'})\n",
    "\n",
    "df_MTA_TurnComb.head(7)"
   ]
  },
  {
   "cell_type": "markdown",
   "metadata": {
    "collapsed": true
   },
   "source": [
    "**Challenge 6**: combine turnstiles into single Station daily counts"
   ]
  },
  {
   "cell_type": "code",
   "execution_count": 15,
   "metadata": {
    "collapsed": false
   },
   "outputs": [
    {
     "data": {
      "text/html": [
       "<div>\n",
       "<table border=\"1\" class=\"dataframe\">\n",
       "  <thead>\n",
       "    <tr style=\"text-align: right;\">\n",
       "      <th></th>\n",
       "      <th></th>\n",
       "      <th>DAILY_ENTRIES</th>\n",
       "    </tr>\n",
       "    <tr>\n",
       "      <th>STATION</th>\n",
       "      <th>DATE</th>\n",
       "      <th></th>\n",
       "    </tr>\n",
       "  </thead>\n",
       "  <tbody>\n",
       "    <tr>\n",
       "      <th rowspan=\"7\" valign=\"top\">1 AV</th>\n",
       "      <th>05/20/2017</th>\n",
       "      <td>19115.0</td>\n",
       "    </tr>\n",
       "    <tr>\n",
       "      <th>05/21/2017</th>\n",
       "      <td>13845.0</td>\n",
       "    </tr>\n",
       "    <tr>\n",
       "      <th>05/22/2017</th>\n",
       "      <td>22031.0</td>\n",
       "    </tr>\n",
       "    <tr>\n",
       "      <th>05/23/2017</th>\n",
       "      <td>23029.0</td>\n",
       "    </tr>\n",
       "    <tr>\n",
       "      <th>05/24/2017</th>\n",
       "      <td>23619.0</td>\n",
       "    </tr>\n",
       "    <tr>\n",
       "      <th>05/25/2017</th>\n",
       "      <td>23778.0</td>\n",
       "    </tr>\n",
       "    <tr>\n",
       "      <th>05/26/2017</th>\n",
       "      <td>23282.0</td>\n",
       "    </tr>\n",
       "  </tbody>\n",
       "</table>\n",
       "</div>"
      ],
      "text/plain": [
       "                    DAILY_ENTRIES\n",
       "STATION DATE                     \n",
       "1 AV    05/20/2017        19115.0\n",
       "        05/21/2017        13845.0\n",
       "        05/22/2017        22031.0\n",
       "        05/23/2017        23029.0\n",
       "        05/24/2017        23619.0\n",
       "        05/25/2017        23778.0\n",
       "        05/26/2017        23282.0"
      ]
     },
     "execution_count": 15,
     "metadata": {},
     "output_type": "execute_result"
    }
   ],
   "source": [
    "df_MTA_StatComb = df_MTA_TurnComb.reset_index().drop(['C/A','UNIT'],axis=1)\n",
    "df_MTA_StatComb = df_MTA_StatComb.groupby(['STATION','DATE']).DAILY_ENTRIES.agg({'DAILY_ENTRIES':'sum'})\n",
    "\n",
    "df_MTA_StatComb.head(7)"
   ]
  },
  {
   "cell_type": "markdown",
   "metadata": {},
   "source": [
    "**Challenge 7**: Plot the daily time series for a single station"
   ]
  },
  {
   "cell_type": "code",
   "execution_count": 16,
   "metadata": {
    "collapsed": false
   },
   "outputs": [],
   "source": [
    "df_MTA_StatComb = df_MTA_StatComb.reset_index()\n",
    "df_MTA_Stat59 = df_MTA_StatComb[df_MTA_StatComb['STATION'] == '59 ST']\n",
    "\n",
    "dates = [dateutil.parser.parse(date) for date in df_MTA_Stat59['DATE'].values]\n",
    "counts = df_MTA_Stat59['DAILY_ENTRIES'].values"
   ]
  },
  {
   "cell_type": "code",
   "execution_count": 17,
   "metadata": {
    "collapsed": false
   },
   "outputs": [
    {
     "data": {
      "text/plain": [
       "<matplotlib.text.Text at 0x125613710>"
      ]
     },
     "execution_count": 17,
     "metadata": {},
     "output_type": "execute_result"
    },
    {
     "data": {
      "image/png": "[encoded data removed]",
      "text/plain": [
       "<matplotlib.figure.Figure at 0x1253db128>"
      ]
     },
     "metadata": {},
     "output_type": "display_data"
    }
   ],
   "source": [
    "plt.figure(figsize=(10,3))\n",
    "plt.plot(dates,counts)\n",
    "plt.title('Total Entries From 5/20 - 6/22 For Lex 59th St Station')\n",
    "plt.xlabel('Date')\n",
    "plt.ylabel('Total Entries')"
   ]
  },
  {
   "cell_type": "markdown",
   "metadata": {
    "collapsed": true
   },
   "source": [
    "**Challenge 8**: Plot the daily time series for a single station, but across several different weeks"
   ]
  },
  {
   "cell_type": "code",
   "execution_count": 18,
   "metadata": {
    "collapsed": false
   },
   "outputs": [
    {
     "data": {
      "text/plain": [
       "<matplotlib.figure.Figure at 0x1254c1940>"
      ]
     },
     "metadata": {},
     "output_type": "display_data"
    },
    {
     "data": {
      "image/png": "[encoded data removed]",
      "text/plain": [
       "<matplotlib.figure.Figure at 0x1254c16a0>"
      ]
     },
     "metadata": {},
     "output_type": "display_data"
    }
   ],
   "source": [
    "days_list = ['Saturday','Sunday','Monday','Tuesday','Wednesday','Thursday','Friday']\n",
    "\n",
    "plt.figure(figsize=(10,3))\n",
    "fig, ax = plt.subplots()\n",
    "\n",
    "labels = []\n",
    "for i in range(0,5):\n",
    "    plt.plot(list(range(0,7)),counts[i*7:(i+1)*7])\n",
    "    labels.append('Week of ' + str(dates[i*7].date()))\n",
    "\n",
    "plt.title('Total Entries By Day Of The Week For Lex 59th St Station')\n",
    "plt.xticks(range(7),days_list)\n",
    "plt.xlabel('Day Of The Week')\n",
    "plt.ylabel('Total Entries')\n",
    "\n",
    "ax.legend(labels, loc='best')\n",
    "plt.show()"
   ]
  },
  {
   "cell_type": "markdown",
   "metadata": {},
   "source": [
    "Two things to note about the chart above: first, that the missing data point for Friday 6/23 is correct - we aren't able to properly calculate daily entries for that date since it is the last one in our data (see challenge 3 above). Second, the low Monday 5/29 data point is expected, since this was Memorial Day."
   ]
  },
  {
   "cell_type": "markdown",
   "metadata": {},
   "source": [
    "**Challenge 9**: Sum total ridership for each station over multiple weeks and sort them to find those with the highest traffic."
   ]
  },
  {
   "cell_type": "code",
   "execution_count": 19,
   "metadata": {
    "collapsed": false
   },
   "outputs": [
    {
     "data": {
      "text/plain": [
       "STATION\n",
       "34 ST-PENN STA     4875396.0\n",
       "GRD CNTRL-42 ST    4143627.0\n",
       "34 ST-HERALD SQ    3464068.0\n",
       "23 ST              3271208.0\n",
       "14 ST-UNION SQ     3200567.0\n",
       "TIMES SQ-42 ST     3056531.0\n",
       "42 ST-PORT AUTH    2752735.0\n",
       "FULTON ST          2649609.0\n",
       "86 ST              2614758.0\n",
       "125 ST             2257384.0\n",
       "Name: DAILY_ENTRIES, dtype: float64"
      ]
     },
     "execution_count": 19,
     "metadata": {},
     "output_type": "execute_result"
    }
   ],
   "source": [
    "df_MTA_StatTotal = df_MTA_StatComb.groupby('STATION')['DAILY_ENTRIES'].sum()\n",
    "df_MTA_StatTotal.sort_values(ascending=False,inplace=True)\n",
    "df_MTA_StatTotal.head(10)"
   ]
  },
  {
   "cell_type": "markdown",
   "metadata": {},
   "source": [
    "Unsuprisingly, the highest traffic stations are major commuter and tourist hubs like Penn Station, Grand Central, Herald Square, and Times Square."
   ]
  },
  {
   "cell_type": "markdown",
   "metadata": {},
   "source": [
    "**Challenge 10**: Plot the distribution of total ridership by station."
   ]
  },
  {
   "cell_type": "code",
   "execution_count": 20,
   "metadata": {
    "collapsed": false
   },
   "outputs": [
    {
     "data": {
      "text/plain": [
       "<matplotlib.text.Text at 0x1254f5828>"
      ]
     },
     "execution_count": 20,
     "metadata": {},
     "output_type": "execute_result"
    },
    {
     "data": {
      "image/png": "[encoded data removed]",
      "text/plain": [
       "<matplotlib.figure.Figure at 0x125618e10>"
      ]
     },
     "metadata": {},
     "output_type": "display_data"
    }
   ],
   "source": [
    "df_MTA_StatTotal.hist()\n",
    "\n",
    "#Alternatively do it by creating a seperate list as below, but this is little less code efficient! \n",
    "#total_ridership_counts = list(df_MTA_StatTotal)\n",
    "#plt.hist(total_ridership_counts)\n",
    "\n",
    "plt.title('Distribution Of Total Ridership By Station From 5/20-6/22')\n",
    "plt.xlabel('Total Ridership')\n",
    "plt.ylabel('Count Of Stations')"
   ]
  },
  {
   "cell_type": "markdown",
   "metadata": {},
   "source": [
    "As expected, total ridership by station is right-skewed: most stations have small traffic volume while only a small number have extremely large traffic volume."
   ]
  }
 ],
 "metadata": {
  "anaconda-cloud": {},
  "kernelspec": {
   "display_name": "Python [conda env:py36]",
   "language": "python",
   "name": "conda-env-py36-py"
  },
  "language_info": {
   "codemirror_mode": {
    "name": "ipython",
    "version": 3
   },
   "file_extension": ".py",
   "mimetype": "text/x-python",
   "name": "python",
   "nbconvert_exporter": "python",
   "pygments_lexer": "ipython3",
   "version": "3.6.0"
  }
 },
 "nbformat": 4,
 "nbformat_minor": 1
}
